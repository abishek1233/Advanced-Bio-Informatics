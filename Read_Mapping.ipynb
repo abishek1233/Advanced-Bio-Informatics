{
 "metadata": {
  "language_info": {
   "codemirror_mode": {
    "name": "ipython",
    "version": 3
   },
   "file_extension": ".py",
   "mimetype": "text/x-python",
   "name": "python",
   "nbconvert_exporter": "python",
   "pygments_lexer": "ipython3",
   "version": "3.8.5"
  },
  "orig_nbformat": 2,
  "kernelspec": {
   "name": "python385jvsc74a57bd0082e9a3bcad0a290d0001e938aa60b99250c6c2ef33a923c00b70f9826caf4b7",
   "display_name": "Python 3.8.5 64-bit"
  }
 },
 "nbformat": 4,
 "nbformat_minor": 2,
 "cells": [
  {
   "cell_type": "code",
   "execution_count": 1,
   "metadata": {},
   "outputs": [],
   "source": [
    "# Importing the BioPython library to read the fasta and fastq file and the fuzzywuzzy library to find the mapping ratio of the reads to the genome.\n",
    "from Bio import SeqIO\n",
    "from fuzzywuzzy import fuzz"
   ]
  },
  {
   "cell_type": "code",
   "execution_count": 2,
   "metadata": {},
   "outputs": [],
   "source": [
    "# This function is used to open the fasta file (Genome Sequence) and return the complete sequence in the form of a string.\n",
    "def fasta_file(file_name):\n",
    "    for record in SeqIO.parse(file_name,\"fasta\"):\n",
    "        fasta_seq = record.seq.upper()\n",
    "    return str(fasta_seq)\n",
    "\n",
    "# This function is used to open the fastq file (Sequence Reads) and return the complete sequence in the form of a list.\n",
    "def fastq_file(file_name):\n",
    "    fastq_list = []\n",
    "    for record in SeqIO.parse(file_name,\"fastq\"):\n",
    "        fastq_list.append(str(record.seq))\n",
    "    return fastq_list"
   ]
  },
  {
   "cell_type": "code",
   "execution_count": 3,
   "metadata": {},
   "outputs": [],
   "source": [
    "# Storing the genome sequence in a variable in order to access easily.\n",
    "genome = fasta_file('chr2L.fa')"
   ]
  },
  {
   "cell_type": "code",
   "execution_count": 4,
   "metadata": {},
   "outputs": [],
   "source": [
    "# This fumction finds the possible K-mers of seed size = 10 for the Genome file and returns the dictionary of all the possible K-mers and their index postion.\n",
    "def kmers(sequence,seed_size):\n",
    "    hash_map = {}\n",
    "    for i in range(len(sequence) - seed_size + 1):\n",
    "        kmer = sequence[i:i+seed_size]\n",
    "        if kmer not in hash_map:\n",
    "            hash_map[kmer]=[i]\n",
    "        else :\n",
    "            hash_map[kmer].append(i)\n",
    "    return hash_map"
   ]
  },
  {
   "cell_type": "code",
   "execution_count": 5,
   "metadata": {},
   "outputs": [],
   "source": [
    "# Storing the genome hash table in a new variable in order to access it easily.\n",
    "genome_table = kmers(genome,10)"
   ]
  },
  {
   "cell_type": "code",
   "execution_count": 5,
   "metadata": {},
   "outputs": [],
   "source": [
    "# Reading the fastq (Read sequence) file and storing it in a new variable.\n",
    "read_seq = fastq_file(\"10k_reads.fastq\")"
   ]
  },
  {
   "cell_type": "code",
   "execution_count": null,
   "metadata": {},
   "outputs": [],
   "source": [
    "# Read Mapping to the Genome Sequence using the seed and extend algorithm and it prints the Exact Index from the Genome where the reads are found.\n",
    "for seq in range(len(read_seq)):\n",
    "  reference = '' \n",
    "  short_read = read_seq[seq][:10]\n",
    "  if short_read in genome_table.keys():\n",
    "    indices = genome_table[short_read]\n",
    "    for i in indices:\n",
    "      reference = genome[i:i+36]\n",
    "      gg = fuzz.ratio(reference,read_seq[seq])\n",
    "      print(f'\\n The read sequence is {read_seq[seq]} is at the index {i} to {i+36} in the genome sequence with a matching score of {gg}')\n"
   ]
  }
 ]
}